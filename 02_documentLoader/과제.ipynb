{
 "cells": [
  {
   "cell_type": "code",
   "execution_count": 1,
   "metadata": {},
   "outputs": [],
   "source": [
    "!pip install -qU pypdf langchain_community"
   ]
  },
  {
   "cell_type": "code",
   "execution_count": 4,
   "metadata": {},
   "outputs": [],
   "source": [
    "from langchain.document_loaders import PyPDFLoader\n",
    "\n",
    "loader = PyPDFLoader('C:\\\\Users\\\\SANGMIN\\\\OneDrive\\\\문서\\\\GitHub\\\\test_jju\\\\data\\\\소상공인_전기요금_특별지원_사업_시행_수정공고(제2024-557호).pdf')\n",
    "\n",
    "docs = loader.load()"
   ]
  },
  {
   "cell_type": "code",
   "execution_count": 8,
   "metadata": {},
   "outputs": [
    {
     "name": "stdout",
     "output_type": "stream",
     "text": [
      "- 1 -\n",
      "중소벤처기업부공고제2024–557호｢소상공인 전기요금 특별지원 사업｣ 시행 수정공고 전기요금인상에따라경영난을겪는소상공인들을위한｢\n",
      "소상공인전기요금특별지원사업｣\n",
      "시행계획을다음과같이공고합니다.2024년11월1일중소벤처기업부장관※ 본 공고는 ｢소상공인 전기요금 특별지원 사업(중소벤처기업부 공고 제2024-480호, 2024.9.2.)｣에서 다음과 같은 사항이 수정된 공고입니다.<주요 수정사항>구 분페이지주요 내용지원금액 상향2p￭ 최대 20만원 → 최대 25만원기 지원자 추가지원3p, 4p￭ 직접계약자는 별도 신청 없이 5만원 추가 차감￭ 비계약사용자는 별도 신청 없이 5만원 추가 환급제출서류 보완기한6p￭ 보완요청 기한 내 증빙 미보완시 지원 제외될 수 있음 1. 시행 목적□전기요금인상에따라어려움을겪는소상공인들을위해전기요금을지원하여부담경감 2. 지원대상 및 지원금액 □(지원대상)①1차공고일기준(‘24.2.15)활동중,②연매출액1억4백만원미만,③사업장용전기요금(주거용등제외)을부담\n"
     ]
    }
   ],
   "source": [
    "print(docs[0].page_content[:500])"
   ]
  },
  {
   "cell_type": "code",
   "execution_count": 9,
   "metadata": {},
   "outputs": [],
   "source": [
    "!pip install -qU pymupdf"
   ]
  },
  {
   "cell_type": "code",
   "execution_count": 10,
   "metadata": {},
   "outputs": [],
   "source": [
    "FILE_PATH = 'C:\\\\Users\\\\SANGMIN\\\\OneDrive\\\\문서\\\\GitHub\\\\test_jju\\\\data\\\\소상공인_전기요금_특별지원_사업_시행_수정공고(제2024-557호).pdf'"
   ]
  },
  {
   "cell_type": "code",
   "execution_count": 12,
   "metadata": {},
   "outputs": [],
   "source": [
    "from langchain.document_loaders import PyMuPDFLoader\n",
    "\n",
    "loader = PyMuPDFLoader(FILE_PATH)\n",
    "\n",
    "docs2 = loader.load()"
   ]
  },
  {
   "cell_type": "code",
   "execution_count": 14,
   "metadata": {},
   "outputs": [
    {
     "name": "stdout",
     "output_type": "stream",
     "text": [
      "- 1 -\n",
      "중소벤처기업부공고제2024–557호\n",
      "｢소상공인 전기요금 특별지원 사업｣ 시행 수정공고\n",
      "전기요금인상에따라경영난을겪는소상공인들을위한｢소상공인\n",
      "전기요금특별지원사업｣시행계획을다음과같이공고합니다.\n",
      "2024년11월1일\n",
      "중소벤처기업부장관\n",
      "※ 본 공고는 ｢소상공인 전기요금 특별지원 사업(중소벤처기업부 공고 제2024-480호, \n",
      "2024.9.2.)｣에서 다음과 같은 사항이 수정된 공고입니다.\n",
      "< 주요 수정사항>\n",
      "구 분\n",
      "페이지\n",
      "주요 내용\n",
      "지원금액 상향\n",
      "2p\n",
      "￭ 최대 20만원 → 최대 25만원\n",
      "기 지원자 \n",
      "추가지원\n",
      "3p, 4p\n",
      "￭ 직접계약자는 별도 신청 없이 5만원 추가 차감\n",
      "￭ 비계약사용자는 별도 신청 없이 5만원 추가 환급\n",
      "제출서류 보완기한\n",
      "6p\n",
      "￭ 보완요청 기한 내 증빙 미보완시 지원 제외될 수 있음\n",
      " 1. 시행 목적\n",
      "□전기요금인상에따라어려움을겪는소상공인들을위해전기요금을\n",
      "지원하여부담경감\n",
      " 2. 지원대상 및 지원금액\n",
      " \n",
      "□(지원대상) ①1차공고일기준(‘24.2.15) 활동중, ②연매출액\n"
     ]
    }
   ],
   "source": [
    "print(docs2[0].page_content[:500])"
   ]
  },
  {
   "cell_type": "code",
   "execution_count": 15,
   "metadata": {},
   "outputs": [],
   "source": [
    "!pip install -qU pypdfium2"
   ]
  },
  {
   "cell_type": "code",
   "execution_count": 17,
   "metadata": {},
   "outputs": [
    {
     "name": "stderr",
     "output_type": "stream",
     "text": [
      "c:\\Users\\SANGMIN\\anaconda\\Lib\\site-packages\\pypdfium2\\_helpers\\textpage.py:80: UserWarning: get_text_range() call with default params will be implicitly redirected to get_text_bounded()\n",
      "  warnings.warn(\"get_text_range() call with default params will be implicitly redirected to get_text_bounded()\")\n"
     ]
    }
   ],
   "source": [
    "from langchain_community.document_loaders import PyPDFium2Loader\n",
    "\n",
    "loader = PyPDFium2Loader(FILE_PATH)\n",
    "\n",
    "docs3 = loader.load()"
   ]
  },
  {
   "cell_type": "code",
   "execution_count": 18,
   "metadata": {},
   "outputs": [
    {
     "name": "stdout",
     "output_type": "stream",
     "text": [
      "- 1 -\n",
      "중소벤처기업부 공고 제2024–557호\n",
      "｢소상공인 전기요금 특별지원 사업｣ 시행 수정공고\n",
      "전기요금 인상에 따라 경영난을 겪는 소상공인들을 위한 ｢소상공인\n",
      "전기요금 특별지원 사업｣ 시행계획을 다음과 같이 공고합니다.\n",
      "2024년 11월 1일\n",
      "중소벤처기업부장관\n",
      "※ 본 공고는 ｢소상공인 전기요금 특별지원 사업(중소벤처기업부 공고 제2024-480호, 2024.9.2.)｣에서 다음과 같은 사항이 수정된 공고입니다. < 주요 수정사항 >\n",
      "구 분 페이지 주요 내용\n",
      "지원금액 상향 2p ￭ 최대 20만원 → 최대 25만원\n",
      "기 지원자 \n",
      "추가지원 3p, 4p\n",
      "￭ 직접계약자는 별도 신청 없이 5만원 추가 차감\n",
      "￭ 비계약사용자는 별도 신청 없이 5만원 추가 환급\n",
      "제출서류 보완기한 6p ￭ 보완요청 기한 내 증빙 미보완시 지원 제외될 수 있음\n",
      "1. 시행 목적\n",
      "□ 전기요금 인상에 따라 어려움을 겪는 소상공인들을 위해 전기요금을\n",
      "지원하여 부담 경감\n",
      "2. 지원대상 및 지\n"
     ]
    }
   ],
   "source": [
    "print(docs3[0].page_content[:500])"
   ]
  },
  {
   "cell_type": "code",
   "execution_count": 19,
   "metadata": {},
   "outputs": [
    {
     "name": "stdout",
     "output_type": "stream",
     "text": [
      "Collecting pdfminer.six\n",
      "  Downloading pdfminer.six-20240706-py3-none-any.whl.metadata (4.1 kB)\n",
      "Requirement already satisfied: charset-normalizer>=2.0.0 in c:\\users\\sangmin\\anaconda\\lib\\site-packages (from pdfminer.six) (3.3.2)\n",
      "Requirement already satisfied: cryptography>=36.0.0 in c:\\users\\sangmin\\anaconda\\lib\\site-packages (from pdfminer.six) (43.0.0)\n",
      "Requirement already satisfied: cffi>=1.12 in c:\\users\\sangmin\\anaconda\\lib\\site-packages (from cryptography>=36.0.0->pdfminer.six) (1.17.1)\n",
      "Requirement already satisfied: pycparser in c:\\users\\sangmin\\anaconda\\lib\\site-packages (from cffi>=1.12->cryptography>=36.0.0->pdfminer.six) (2.21)\n",
      "Downloading pdfminer.six-20240706-py3-none-any.whl (5.6 MB)\n",
      "   ---------------------------------------- 0.0/5.6 MB ? eta -:--:--\n",
      "   ---------------------------------------  5.5/5.6 MB 33.4 MB/s eta 0:00:01\n",
      "   ---------------------------------------- 5.6/5.6 MB 28.5 MB/s eta 0:00:00\n",
      "Installing collected packages: pdfminer.six\n",
      "Successfully installed pdfminer.six-20240706\n"
     ]
    }
   ],
   "source": [
    "!pip install pdfminer.six"
   ]
  },
  {
   "cell_type": "code",
   "execution_count": 21,
   "metadata": {},
   "outputs": [],
   "source": [
    "from langchain.document_loaders import PDFMinerLoader\n",
    "\n",
    "loader = PDFMinerLoader(FILE_PATH)\n",
    "\n",
    "docs4 = loader.load()"
   ]
  },
  {
   "cell_type": "code",
   "execution_count": 22,
   "metadata": {},
   "outputs": [
    {
     "name": "stdout",
     "output_type": "stream",
     "text": [
      "중소벤처기업부 공고 제2024–557호\n",
      "\n",
      "｢소상공인  전기요금  특별지원  사업｣  시행  수정공고\n",
      "\n",
      "전기요금 인상에 따라 경영난을 겪는 소상공인들을 위한 ｢소상공인\n",
      "\n",
      "전기요금 특별지원 사업｣ 시행계획을 다음과 같이 공고합니다.\n",
      "\n",
      "2024년 11월 1일\n",
      "중소벤처기업부장관\n",
      "\n",
      "※  본  공고는  ｢소상공인  전기요금  특별지원  사업(중소벤처기업부  공고  제2024-480호, \n",
      "\n",
      "2024.9.2.)｣에서  다음과  같은  사항이  수정된  공고입니다.\n",
      "\n",
      "< 주요  수정사항 >\n",
      "\n",
      "구  분\n",
      "\n",
      "페이지\n",
      "\n",
      "주요  내용\n",
      "\n",
      "지원금액  상향\n",
      "\n",
      "2p\n",
      "\n",
      "￭  최대  20만원  →  최대  25만원\n",
      "\n",
      "기  지원자 \n",
      "\n",
      "추가지원\n",
      "\n",
      "3p,  4p\n",
      "\n",
      "￭  직접계약자는  별도  신청  없이  5만원  추가  차감\n",
      "\n",
      "￭  비계약사용자는  별도  신청  없이  5만원  추가  환급\n",
      "\n",
      "제출서류 보완기한 6p\n",
      "\n",
      "￭  보완요청  기한  내  증빙  미보완시  지원  제외될  수  있음\n",
      "\n",
      "  1.  시행  목적\n",
      "\n",
      "□ 전기요\n"
     ]
    }
   ],
   "source": [
    "print(docs4[0].page_content[:500])"
   ]
  }
 ],
 "metadata": {
  "kernelspec": {
   "display_name": "base",
   "language": "python",
   "name": "python3"
  },
  "language_info": {
   "codemirror_mode": {
    "name": "ipython",
    "version": 3
   },
   "file_extension": ".py",
   "mimetype": "text/x-python",
   "name": "python",
   "nbconvert_exporter": "python",
   "pygments_lexer": "ipython3",
   "version": "3.12.8"
  }
 },
 "nbformat": 4,
 "nbformat_minor": 2
}
